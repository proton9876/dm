{
 "cells": [
  {
   "cell_type": "markdown",
   "metadata": {},
   "source": [
    "1. Read the data from the file “people.txt”.\n",
    "1. Create a rule set E that contain rules to check for the following conditions :\n",
    "   1. The age should be in the range 0-150.\n",
    "   1. The age should be greater than years married.\n",
    "   1. The status should be married or single or widowed.\n",
    "   1. If age is less than 18 the age group should be child, if age is between 18 and 65 the age group should be adult, if age is more than 65 the age group should be elderly.\n",
    "1. Check whether rule set E is violated by the data in the file people.txt.\n",
    "1. Summarize the results obtained in part(iii)\n",
    "1. Visualize the results obtained in part(iii)\n"
   ]
  },
  {
   "cell_type": "code",
   "execution_count": 1,
   "metadata": {},
   "outputs": [
    {
     "data": {
      "text/html": [
       "<div>\n",
       "<style scoped>\n",
       "    .dataframe tbody tr th:only-of-type {\n",
       "        vertical-align: middle;\n",
       "    }\n",
       "\n",
       "    .dataframe tbody tr th {\n",
       "        vertical-align: top;\n",
       "    }\n",
       "\n",
       "    .dataframe thead th {\n",
       "        text-align: right;\n",
       "    }\n",
       "</style>\n",
       "<table border=\"1\" class=\"dataframe\">\n",
       "  <thead>\n",
       "    <tr style=\"text-align: right;\">\n",
       "      <th></th>\n",
       "      <th>Age</th>\n",
       "      <th>agegroup</th>\n",
       "      <th>height</th>\n",
       "      <th>status</th>\n",
       "      <th>yearsmarried</th>\n",
       "    </tr>\n",
       "  </thead>\n",
       "  <tbody>\n",
       "    <tr>\n",
       "      <th>0</th>\n",
       "      <td>21</td>\n",
       "      <td>adult</td>\n",
       "      <td>6.0</td>\n",
       "      <td>single</td>\n",
       "      <td>-1</td>\n",
       "    </tr>\n",
       "    <tr>\n",
       "      <th>1</th>\n",
       "      <td>2</td>\n",
       "      <td>child</td>\n",
       "      <td>3.0</td>\n",
       "      <td>married</td>\n",
       "      <td>0</td>\n",
       "    </tr>\n",
       "    <tr>\n",
       "      <th>2</th>\n",
       "      <td>18</td>\n",
       "      <td>adult</td>\n",
       "      <td>5.7</td>\n",
       "      <td>married</td>\n",
       "      <td>20</td>\n",
       "    </tr>\n",
       "    <tr>\n",
       "      <th>3</th>\n",
       "      <td>221</td>\n",
       "      <td>elderly</td>\n",
       "      <td>5.0</td>\n",
       "      <td>widowed</td>\n",
       "      <td>2</td>\n",
       "    </tr>\n",
       "    <tr>\n",
       "      <th>4</th>\n",
       "      <td>34</td>\n",
       "      <td>child</td>\n",
       "      <td>-7.0</td>\n",
       "      <td>married</td>\n",
       "      <td>3</td>\n",
       "    </tr>\n",
       "  </tbody>\n",
       "</table>\n",
       "</div>"
      ],
      "text/plain": [
       "   Age agegroup  height   status  yearsmarried\n",
       "0   21    adult     6.0   single            -1\n",
       "1    2    child     3.0  married             0\n",
       "2   18    adult     5.7  married            20\n",
       "3  221  elderly     5.0  widowed             2\n",
       "4   34    child    -7.0  married             3"
      ]
     },
     "execution_count": 1,
     "metadata": {},
     "output_type": "execute_result"
    }
   ],
   "source": [
    "import pandas as pd\n",
    "\n",
    "data = pd.read_csv(\"people.txt\", header=0, delimiter=r\"\\s+\")\n",
    "\n",
    "data"
   ]
  },
  {
   "cell_type": "code",
   "execution_count": 2,
   "metadata": {},
   "outputs": [
    {
     "name": "stdout",
     "output_type": "stream",
     "text": [
      "RangeIndex(start=0, stop=5, step=1)\n",
      "<class 'pandas.core.frame.DataFrame'>\n",
      "RangeIndex: 5 entries, 0 to 4\n",
      "Data columns (total 5 columns):\n",
      " #   Column        Non-Null Count  Dtype  \n",
      "---  ------        --------------  -----  \n",
      " 0   Age           5 non-null      int64  \n",
      " 1   agegroup      5 non-null      object \n",
      " 2   height        5 non-null      float64\n",
      " 3   status        5 non-null      object \n",
      " 4   yearsmarried  5 non-null      int64  \n",
      "dtypes: float64(1), int64(2), object(2)\n",
      "memory usage: 328.0+ bytes\n"
     ]
    }
   ],
   "source": [
    "print(data.index)\n",
    "data.info()"
   ]
  },
  {
   "cell_type": "code",
   "execution_count": 3,
   "metadata": {},
   "outputs": [],
   "source": [
    "ruleset_E = [\n",
    "    lambda person: 0 <= person[0] <= 150,  # Age should be in the range 0-150\n",
    "    lambda person: person[0] > person[4],  # Age should be greater than years married\n",
    "    lambda person: person[3]\n",
    "    in [\"single\", \"married\", \"widowed\"],  # Status should be married, single, or widowed\n",
    "    lambda person: (person[0] < 18 and person[1] == \"child\")\n",
    "    or (18 <= person[0] <= 65 and person[1] == \"adult\")\n",
    "    or (person[0] > 65 and person[1] == \"elderly\"),  # Age group should match the age\n",
    "]"
   ]
  },
  {
   "cell_type": "code",
   "execution_count": 4,
   "metadata": {},
   "outputs": [],
   "source": [
    "violations = []\n",
    "for person in data.values:\n",
    "    for rule in ruleset_E:\n",
    "        if not rule(person):\n",
    "            violations.append((person, ruleset_E.index(rule)))\n",
    "            break"
   ]
  },
  {
   "cell_type": "code",
   "execution_count": 5,
   "metadata": {},
   "outputs": [
    {
     "name": "stdout",
     "output_type": "stream",
     "text": [
      "Violations of Ruleset E:\n",
      "Person: [18 'adult' 5.7 'married' 20]\n",
      "Violated rule: 2\n",
      "\n",
      "Person: [221 'elderly' 5.0 'widowed' 2]\n",
      "Violated rule: 1\n",
      "\n",
      "Person: [34 'child' -7.0 'married' 3]\n",
      "Violated rule: 4\n",
      "\n"
     ]
    }
   ],
   "source": [
    "print(\"Violations of Ruleset E:\")\n",
    "for person, rule in violations:\n",
    "    print(f\"Person: {person}\")\n",
    "    print(f\"Violated rule: {rule + 1}\")\n",
    "    print()\n",
    "\n",
    "if not violations:\n",
    "    print(\"No violations found.\")"
   ]
  },
  {
   "cell_type": "code",
   "execution_count": 6,
   "metadata": {},
   "outputs": [
    {
     "data": {
      "image/png": "[encoded data removed]",
      "text/plain": [
       "<Figure size 1000x600 with 1 Axes>"
      ]
     },
     "metadata": {},
     "output_type": "display_data"
    }
   ],
   "source": [
    "import matplotlib.pyplot as plt\n",
    "\n",
    "# Create a figure and axis\n",
    "fig, ax = plt.subplots(figsize=(10, 6))\n",
    "\n",
    "people = data.values\n",
    "# Plot the data\n",
    "ax.scatter(\n",
    "    [person[0] for person in people],\n",
    "    [person[2] for person in people],\n",
    "    c=[person[3] == \"married\" for person in people],\n",
    ")\n",
    "\n",
    "# Add labels and title\n",
    "ax.set_xlabel(\"Age\")\n",
    "ax.set_ylabel(\"Height\")\n",
    "ax.set_title(\"People Data\")\n",
    "\n",
    "# Show the plot\n",
    "plt.show()"
   ]
  }
 ],
 "metadata": {
  "kernelspec": {
   "display_name": "Python 3",
   "language": "python",
   "name": "python3"
  },
  "language_info": {
   "codemirror_mode": {
    "name": "ipython",
    "version": 3
   },
   "file_extension": ".py",
   "mimetype": "text/x-python",
   "name": "python",
   "nbconvert_exporter": "python",
   "pygments_lexer": "ipython3",
   "version": "3.10.0"
  }
 },
 "nbformat": 4,
 "nbformat_minor": 2
}
