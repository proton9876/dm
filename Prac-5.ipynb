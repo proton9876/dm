{
 "cells": [
  {
   "cell_type": "markdown",
   "metadata": {},
   "source": [
    "5. Use Naive bayes, K-nearest, and Decision tree classification algorithms and build classifiers.\n",
    "Divide the data set into training and test set. Compare the accuracy of the different classifiers\n",
    "under the following situations:\n",
    "    1. a) Training set = 75% Test set = 25% b) Training set = 66.6% (2/3rd of total), Test set = 33.3%\n",
    "    2. Training set is chosen by i) hold out method ii) Random subsampling iii) Cross-Validation. Compare the accuracy of the classifiers obtained.\n",
    "    3. Data is scaled to standard format."
   ]
  },
  {
   "cell_type": "code",
   "execution_count": 1,
   "metadata": {},
   "outputs": [
    {
     "name": "stdout",
     "output_type": "stream",
     "text": [
      "Requirement already satisfied: imblearn in c:\\users\\galax\\appdata\\local\\programs\\python\\python310\\lib\\site-packages (0.0)\n",
      "Requirement already satisfied: imbalanced-learn in c:\\users\\galax\\appdata\\local\\programs\\python\\python310\\lib\\site-packages (from imblearn) (0.12.2)\n",
      "Requirement already satisfied: numpy>=1.17.3 in c:\\users\\galax\\appdata\\local\\programs\\python\\python310\\lib\\site-packages (from imbalanced-learn->imblearn) (1.26.4)\n",
      "Requirement already satisfied: scipy>=1.5.0 in c:\\users\\galax\\appdata\\local\\programs\\python\\python310\\lib\\site-packages (from imbalanced-learn->imblearn) (1.13.0)\n",
      "Requirement already satisfied: scikit-learn>=1.0.2 in c:\\users\\galax\\appdata\\local\\programs\\python\\python310\\lib\\site-packages (from imbalanced-learn->imblearn) (1.4.2)\n",
      "Requirement already satisfied: joblib>=1.1.1 in c:\\users\\galax\\appdata\\local\\programs\\python\\python310\\lib\\site-packages (from imbalanced-learn->imblearn) (1.4.0)\n",
      "Requirement already satisfied: threadpoolctl>=2.0.0 in c:\\users\\galax\\appdata\\local\\programs\\python\\python310\\lib\\site-packages (from imbalanced-learn->imblearn) (3.4.0)\n"
     ]
    }
   ],
   "source": [
    "!pip install imblearn"
   ]
  },
  {
   "cell_type": "code",
   "execution_count": 2,
   "metadata": {},
   "outputs": [],
   "source": [
    "from sklearn.datasets import load_iris\n",
    "from sklearn import naive_bayes\n",
    "from sklearn.neighbors import KNeighborsClassifier\n",
    "from sklearn.tree import DecisionTreeClassifier\n",
    "from sklearn.metrics import accuracy_score\n",
    "from sklearn.model_selection import train_test_split, cross_val_score\n",
    "from imblearn.under_sampling import RandomUnderSampler\n",
    "import numpy as np "
   ]
  },
  {
   "cell_type": "code",
   "execution_count": 3,
   "metadata": {},
   "outputs": [],
   "source": [
    "iris = load_iris()\n",
    "\n",
    "x = iris.data \n",
    "y = iris.target"
   ]
  },
  {
   "cell_type": "code",
   "execution_count": 4,
   "metadata": {},
   "outputs": [],
   "source": [
    "def naiveBayes(xTrain, yTrain, xTest, yTest):\n",
    "    clf = naive_bayes.GaussianNB()\n",
    "    clf.fit(xTrain, yTrain)\n",
    "    yPred = clf.predict(xTest)\n",
    "    print(\"Naive Bayes Classifier:\")\n",
    "    print(\"Accuracy:\", accuracy_score(yTest, yPred))\n",
    "    print()\n",
    "\n",
    "def kNN(xTrain, yTrain, xTest, yTest, k=5):\n",
    "    clf = KNeighborsClassifier(n_neighbors=k)\n",
    "    clf.fit(xTrain, yTrain)\n",
    "    yPred = clf.predict(xTest)\n",
    "    print(\"K-Nearest Neighbors Classifier (k={}):\".format(k))\n",
    "    print(\"Accuracy:\", accuracy_score(yTest, yPred))\n",
    "    print()\n",
    "\n",
    "def decisionTree(xTrain, yTrain, xTest, yTest):\n",
    "    clf = DecisionTreeClassifier()\n",
    "    clf.fit(xTrain, yTrain)\n",
    "    yPred = clf.predict(xTest)\n",
    "    print(\"Decision Tree Classifier:\")\n",
    "    print(\"Accuracy:\", accuracy_score(yTest, yPred))\n",
    "    print()"
   ]
  },
  {
   "cell_type": "code",
   "execution_count": 5,
   "metadata": {},
   "outputs": [
    {
     "name": "stdout",
     "output_type": "stream",
     "text": [
      "Training set = 75% Test set = 25%\n",
      "Naive Bayes Classifier:\n",
      "Accuracy: 0.8947368421052632\n",
      "\n",
      "K-Nearest Neighbors Classifier (k=5):\n",
      "Accuracy: 0.9736842105263158\n",
      "\n",
      "Decision Tree Classifier:\n",
      "Accuracy: 0.9473684210526315\n",
      "\n",
      "Training set = 66.6% (2/3rd of total), Test set =33.3%\n",
      "Naive Bayes Classifier:\n",
      "Accuracy: 0.98\n",
      "\n",
      "K-Nearest Neighbors Classifier (k=5):\n",
      "Accuracy: 1.0\n",
      "\n"
     ]
    }
   ],
   "source": [
    "# 5.1 \n",
    "print (\"Training set = 75% Test set = 25%\")\n",
    "\n",
    "x_train, x_test, y_train, y_test = train_test_split(x, y,test_size=0.25)\n",
    "naiveBayes(x_train, y_train, x_test, y_test)\n",
    "kNN(x_train, y_train, x_test, y_test)\n",
    "decisionTree(x_train, y_train, x_test, y_test)\n",
    "\n",
    "print (\"Training set = 66.6% (2/3rd of total), Test set =33.3%\")\n",
    "x_train, x_test, y_train, y_test = train_test_split(x,y,test_size=1/3)\n",
    "naiveBayes(x_train, y_train, x_test, y_test)\n",
    "kNN(x_train, y_train, x_test, y_test)"
   ]
  },
  {
   "cell_type": "code",
   "execution_count": 6,
   "metadata": {},
   "outputs": [
    {
     "name": "stdout",
     "output_type": "stream",
     "text": [
      "Holdout Method\n",
      "Naive Bayes Classifier:\n",
      "Accuracy: 0.9736842105263158\n",
      "\n",
      "K-Nearest Neighbors Classifier (k=5):\n",
      "Accuracy: 0.9736842105263158\n",
      "\n",
      "Decision Tree Classifier:\n",
      "Accuracy: 0.9473684210526315\n",
      "\n",
      "----------------------------------------------------------------------------------------------------\n",
      "Cross validation\n",
      "Naive Bayes Cross-Validation Accuracy: 0.9533333333333334\n",
      "K-Nearest Neighbors Cross-Validation Accuracy (k=5): 0.9733333333333334\n",
      "Decision Tree Cross-Validation Accuracy: 0.9666666666666668\n",
      "----------------------------------------------------------------------------------------------------\n",
      "Random Subsampling\n",
      "Naive Bayes Classifier:\n",
      "Accuracy: 0.9210526315789473\n",
      "\n",
      "K-Nearest Neighbors Classifier (k=5):\n",
      "Accuracy: 0.9473684210526315\n",
      "\n",
      "Decision Tree Classifier:\n",
      "Accuracy: 0.9473684210526315\n",
      "\n"
     ]
    }
   ],
   "source": [
    "# 5.2\n",
    "# Holdout Method\n",
    "print (\"Holdout Method\")\n",
    "x_train_holdout, x_test_holdout, y_train_holdout, y_test_holdout = train_test_split(x, y, test_size=0.25)\n",
    "naiveBayes(x_train_holdout, y_train_holdout, x_test_holdout, y_test_holdout)\n",
    "kNN(x_train_holdout, y_train_holdout, x_test_holdout, y_test_holdout)\n",
    "decisionTree(x_train_holdout, y_train_holdout, x_test_holdout, y_test_holdout)\n",
    "\n",
    "# Cross-Validation\n",
    "print (\"-\" * 100)\n",
    "print (\"Cross validation\")\n",
    "naiveBayes_cv = cross_val_score(naive_bayes.GaussianNB(), x, y, cv=5)\n",
    "kNN_cv = cross_val_score(KNeighborsClassifier(n_neighbors=5), x, y, cv=5)\n",
    "decisionTree_cv = cross_val_score(DecisionTreeClassifier(), x, y, cv=5)\n",
    "print(\"Naive Bayes Cross-Validation Accuracy:\", np.mean(naiveBayes_cv))\n",
    "print(\"K-Nearest Neighbors Cross-Validation Accuracy (k=5):\", np.mean(kNN_cv))\n",
    "print(\"Decision Tree Cross-Validation Accuracy:\", np.mean(decisionTree_cv))\n",
    "\n",
    "# Random subsampling\n",
    "print (\"-\" * 100)\n",
    "print (\"Random Subsampling\")\n",
    "rus = RandomUnderSampler(random_state=42)\n",
    "x_resampled, y_resampled = rus.fit_resample(x, y)\n",
    "\n",
    "x_train, x_test, y_train, y_test = train_test_split(x_resampled, y_resampled, test_size=0.25)\n",
    "naiveBayes(x_train, y_train, x_test, y_test)\n",
    "kNN(x_train, y_train, x_test, y_test)\n",
    "decisionTree(x_train, y_train, x_test, y_test)"
   ]
  },
  {
   "cell_type": "code",
   "execution_count": 7,
   "metadata": {},
   "outputs": [
    {
     "name": "stdout",
     "output_type": "stream",
     "text": [
      "Data is scaled\n",
      "Naive Bayes Classifier:\n",
      "Accuracy: 0.9736842105263158\n",
      "\n",
      "K-Nearest Neighbors Classifier (k=5):\n",
      "Accuracy: 0.9736842105263158\n",
      "\n",
      "Decision Tree Classifier:\n",
      "Accuracy: 0.9473684210526315\n",
      "\n"
     ]
    }
   ],
   "source": [
    "# 5.3\n",
    "from sklearn.preprocessing import StandardScaler\n",
    "print (\"Data is scaled\")\n",
    "scaler = StandardScaler()\n",
    "x_scaled = scaler.fit_transform(x)\n",
    "x_train, x_test, y_train, y_test = train_test_split(x, y,test_size=0.25)\n",
    "naiveBayes(x_train, y_train, x_test, y_test)\n",
    "kNN(x_train, y_train, x_test, y_test)\n",
    "decisionTree(x_train, y_train, x_test, y_test)"
   ]
  }
 ],
 "metadata": {
  "kernelspec": {
   "display_name": "Python 3 (ipykernel)",
   "language": "python",
   "name": "python3"
  },
  "language_info": {
   "codemirror_mode": {
    "name": "ipython",
    "version": 3
   },
   "file_extension": ".py",
   "mimetype": "text/x-python",
   "name": "python",
   "nbconvert_exporter": "python",
   "pygments_lexer": "ipython3",
   "version": "3.10.0"
  }
 },
 "nbformat": 4,
 "nbformat_minor": 2
}
