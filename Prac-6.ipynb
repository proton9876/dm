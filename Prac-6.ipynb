{
 "cells": [
  {
   "cell_type": "markdown",
   "metadata": {},
   "source": [
    "6. Use Simple Kmeans, DBScan, Hierachical clustering algorithms for clustering. Compare the\n",
    "performance of clusters by changing the parameters involved in the algorithms."
   ]
  },
  {
   "cell_type": "code",
   "execution_count": 1,
   "metadata": {},
   "outputs": [],
   "source": [
    "from sklearn.cluster import KMeans, DBSCAN, AgglomerativeClustering\n",
    "from sklearn.preprocessing import StandardScaler\n",
    "from sklearn.metrics import silhouette_score, davies_bouldin_score\n",
    "import pandas as pd\n",
    "import numpy as np"
   ]
  },
  {
   "cell_type": "code",
   "execution_count": 2,
   "metadata": {},
   "outputs": [],
   "source": [
    "# Preprocess the data\n",
    "data = pd.read_csv(\"./Credit Card Customer Data.csv\")\n",
    "X = data[['Avg_Credit_Limit', 'Total_Credit_Cards', 'Total_visits_bank', 'Total_visits_online', 'Total_calls_made']]\n",
    "scaler = StandardScaler()\n",
    "X_scaled = scaler.fit_transform(X)"
   ]
  },
  {
   "cell_type": "code",
   "execution_count": 3,
   "metadata": {},
   "outputs": [],
   "source": [
    "# Simple K-means\n",
    "kmeans = KMeans(n_clusters=3, n_init='auto' ,random_state=0).fit(X_scaled)\n",
    "kmeans_labels = kmeans.labels_\n",
    "kmeans_sil = silhouette_score(X_scaled, kmeans_labels)\n",
    "kmeans_dav = davies_bouldin_score(X_scaled, kmeans_labels)"
   ]
  },
  {
   "cell_type": "code",
   "execution_count": 4,
   "metadata": {},
   "outputs": [],
   "source": [
    "# DBScan\n",
    "dbscan = DBSCAN(eps=0.5, min_samples=5).fit(X_scaled)\n",
    "dbscan_labels = dbscan.labels_\n",
    "dbscan_sil = silhouette_score(X_scaled, dbscan_labels)\n",
    "dbscan_dav = davies_bouldin_score(X_scaled, dbscan_labels)"
   ]
  },
  {
   "cell_type": "code",
   "execution_count": 5,
   "metadata": {},
   "outputs": [],
   "source": [
    "# Hierarchical clustering\n",
    "hierarchical = AgglomerativeClustering(n_clusters=3, linkage='ward').fit(X_scaled)\n",
    "hierarchical_labels = hierarchical.labels_\n",
    "hierarchical_sil = silhouette_score(X_scaled, hierarchical_labels)\n",
    "hierarchical_dav = davies_bouldin_score(X_scaled, hierarchical_labels)"
   ]
  },
  {
   "cell_type": "code",
   "execution_count": 6,
   "metadata": {},
   "outputs": [
    {
     "name": "stdout",
     "output_type": "stream",
     "text": [
      "K-Means Silhouette score: 0.5157182558881063\n",
      "K-Means Davies Bouldin score: 0.679698688143959\n",
      "\n",
      "DBScan Silhouette score: -0.1403089162935231\n",
      "DBSCan Davies Bouldin score: 1.8592090191764785\n",
      "\n",
      "Hierarchical Silhouette score: 0.5147639589977819\n",
      "Hierarchical Davies Bouldin score: 0.680959518994733\n"
     ]
    }
   ],
   "source": [
    "# Evaluate the performance of the clusters\n",
    "print(\"K-Means Silhouette score:\", kmeans_sil)\n",
    "print(\"K-Means Davies Bouldin score:\", kmeans_dav)\n",
    "print ()\n",
    "print(\"DBScan Silhouette score:\", dbscan_sil)\n",
    "print(\"DBSCan Davies Bouldin score:\", dbscan_dav)\n",
    "print()\n",
    "print(\"Hierarchical Silhouette score:\", hierarchical_sil)\n",
    "print(\"Hierarchical Davies Bouldin score:\", hierarchical_dav)\n"
   ]
  }
 ],
 "metadata": {
  "kernelspec": {
   "display_name": "Python 3 (ipykernel)",
   "language": "python",
   "name": "python3"
  },
  "language_info": {
   "codemirror_mode": {
    "name": "ipython",
    "version": 3
   },
   "file_extension": ".py",
   "mimetype": "text/x-python",
   "name": "python",
   "nbconvert_exporter": "python",
   "pygments_lexer": "ipython3",
   "version": "3.10.0"
  }
 },
 "nbformat": 4,
 "nbformat_minor": 2
}
